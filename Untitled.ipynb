{
 "cells": [
  {
   "cell_type": "code",
   "execution_count": null,
   "metadata": {},
   "outputs": [
    {
     "name": "stderr",
     "output_type": "stream",
     "text": [
      "/opt/local/Library/Frameworks/Python.framework/Versions/3.5/lib/python3.5/importlib/_bootstrap.py:222: QAWarning: pyne.data is not yet QA compliant.\n",
      "  return f(*args, **kwds)\n",
      "/opt/local/Library/Frameworks/Python.framework/Versions/3.5/lib/python3.5/importlib/_bootstrap.py:222: QAWarning: pyne.material is not yet QA compliant.\n",
      "  return f(*args, **kwds)\n",
      "/opt/local/Library/Frameworks/Python.framework/Versions/3.5/lib/python3.5/importlib/_bootstrap.py:222: QAWarning: pyne.enrichment is not yet QA compliant.\n",
      "  return f(*args, **kwds)\n"
     ]
    }
   ],
   "source": [
    "import sys \n",
    "import os\n",
    "sys.path.append(os.path.abspath(\"/Users/mouginot/work/helpmetric\"))\n",
    "import cymetrichelper as cyh\n",
    "import pandahelper as pdh\n",
    "\n",
    "\n",
    "import cymetric as cym\n",
    "import pandas as pd\n",
    "import matplotlib.pyplot as plt\n",
    "from cymetric import graphs as cgr\n",
    "from cymetric import timeseries as tm\n",
    "\n",
    "%matplotlib inline"
   ]
  },
  {
   "cell_type": "code",
   "execution_count": null,
   "metadata": {},
   "outputs": [],
   "source": [
    "cyh.MakeFlowGraph(\"main.sqlite\")\n",
    "\n"
   ]
  },
  {
   "cell_type": "code",
   "execution_count": null,
   "metadata": {},
   "outputs": [],
   "source": [
    "db = cym.dbopen(\"main.sqlite\")\n",
    "ev = cym.Evaluator(db=db, write=False)"
   ]
  },
  {
   "cell_type": "code",
   "execution_count": null,
   "metadata": {},
   "outputs": [],
   "source": [
    "rec = ()\n",
    "\n",
    "send = ['sfr_a','sfr_b']\n",
    "nucs = ()\n",
    "coms = ()\n",
    "\n",
    "\n",
    "df1 = tm.transactions(ev, receivers=rec, senders=send, nucs=nucs, commodities=coms)\n",
    "\n"
   ]
  },
  {
   "cell_type": "code",
   "execution_count": null,
   "metadata": {},
   "outputs": [],
   "source": [
    "def month2year(df, mode=0, division=12):\n",
    "    dfn = pd.DataFrame(columns=['Time','Mass'])\n",
    "    val = 0\n",
    "    for index, row in df.iterrows():\n",
    "        if mode == 0:\n",
    "            val = row['Mass']\n",
    "        else:\n",
    "            val += row['Mass']\n",
    "        if row['Time'] % division == 0:\n",
    "            if mode == 2:\n",
    "                val *= 1./float(division)\n",
    "            dfn.loc[int(row['Time'] / division)] = int(row['Time'] / 12)\n",
    "            dfn.loc[int(row['Time'] / division)]['Mass'] = val\n",
    "            val = 0\n",
    "    return dfn\n",
    "            \n",
    "    \n",
    "    \n",
    "def maxperdiv(df, division=12):\n",
    "    dfn = pd.DataFrame(columns=['Time','Mass'])\n",
    "    val = 0\n",
    "    for index, row in df.iterrows():\n",
    "        if val < row['Mass']:\n",
    "            val = row['Mass']\n",
    "        if row['Time'] % division == 0:\n",
    "            dfn.loc[int(row['Time'] / division)] = int(row['Time'] / 12)\n",
    "            dfn.loc[int(row['Time'] / division)]['Mass'] = val\n",
    "            val = 0\n",
    "    return dfn"
   ]
  },
  {
   "cell_type": "code",
   "execution_count": null,
   "metadata": {},
   "outputs": [],
   "source": [
    "df1_y = maxperdiv(df1,12)\n",
    "df1_y['Mass'] = df1_y['Mass']/200000.\n",
    "ax = df1_y.plot('Time','Mass',linestyle='', marker='+', markersize='20' ,figsize = (20,12))\n",
    "# Major ticks every 20, minor ticks every 5\n",
    "import numpy as np\n",
    "major_y_ticks = np.arange(0, 60, 1)\n",
    "\n",
    "ax.set_yticks(major_y_ticks)\n",
    "major_x_ticks = np.arange(0, 200, 5)\n",
    "ax.set_xticks(major_x_ticks)\n",
    "\n",
    "\n",
    "\n",
    "# And a corresponding grid\n",
    "ax.grid(which='both')\n",
    "\n",
    "plt.show()"
   ]
  },
  {
   "cell_type": "code",
   "execution_count": null,
   "metadata": {},
   "outputs": [],
   "source": [
    "df1_y_unit = pd.DataFrame()\n",
    "\n",
    "df1_y_unit['Time'] = df1_y['Time']\n",
    "df1_y_build_unit = pd.DataFrame()\n",
    "\n",
    "df1_y_unit['Unit'] = df1_y['Mass'].apply(lambda x: int(x) + 1 if x > int(x) else int(x))\n",
    "df1_y_build_unit['Time'] = df1_y_unit['Time']\n",
    "df1_y_build_unit['Build'] = (df1_y_unit['Unit'] - df1_y_unit['Unit'].shift(1))\n",
    "df1_y_build_unit = df1_y_build_unit.loc[df1_y_build_unit.Build>0]\n",
    "df1_y_build_unit['Time'] *= 12.\n",
    "print(df1_y_build_unit['Time'].values-5*12)\n",
    "print(df1_y_build_unit['Build'].values)"
   ]
  },
  {
   "cell_type": "code",
   "execution_count": null,
   "metadata": {},
   "outputs": [],
   "source": [
    "df1_y_m = month2year(df1,2,2)\n",
    "df1_y_m['Mass'] = df1_y_m['Mass']/100000.\n",
    "ax = df1_y_m.plot('Time','Mass',linestyle='', marker='+', markersize='20' ,figsize = (20,12))\n",
    "# Major ticks every 20, minor ticks every 5\n",
    "import numpy as np\n",
    "major_y_ticks = np.arange(0, 60, 1)\n",
    "\n",
    "ax.set_yticks(major_y_ticks)\n",
    "major_x_ticks = np.arange(0, 200, 5)\n",
    "ax.set_xticks(major_x_ticks)\n",
    "\n",
    "\n",
    "\n",
    "# And a corresponding grid\n",
    "ax.grid(which='both')\n",
    "\n",
    "plt.show()"
   ]
  },
  {
   "cell_type": "code",
   "execution_count": null,
   "metadata": {},
   "outputs": [],
   "source": [
    "df1_y_unit_m = pd.DataFrame()\n",
    "\n",
    "df1_y_unit_m['Time'] = df1_y_m['Time']\n",
    "df1_y_build_unit_m = pd.DataFrame()\n",
    "\n",
    "df1_y_unit_m['Unit'] = df1_y_m['Mass'].apply(lambda x: int(x) + 1 if x > int(x) else int(x))\n",
    "df1_y_build_unit_m['Time'] = df1_y_unit_m['Time']\n",
    "df1_y_build_unit_m['Build'] = (df1_y_unit_m['Unit'] - df1_y_unit_m['Unit'].shift(1))\n",
    "df1_y_build_unit_m = df1_y_build_unit_m.loc[df1_y_build_unit_m.Build>0]\n",
    "df1_y_build_unit_m['Time'] *= 12.\n",
    "print(df1_y_build_unit_m['Time'].values-5*12)\n",
    "print(df1_y_build_unit_m['Build'].values)\n",
    "\n"
   ]
  },
  {
   "cell_type": "code",
   "execution_count": null,
   "metadata": {},
   "outputs": [],
   "source": [
    "\n"
   ]
  },
  {
   "cell_type": "code",
   "execution_count": null,
   "metadata": {},
   "outputs": [],
   "source": [
    "dfp = tm.get_power(ev)"
   ]
  },
  {
   "cell_type": "code",
   "execution_count": null,
   "metadata": {},
   "outputs": [],
   "source": [
    "dfp.plot('Time','Value',figsize = (20,12))"
   ]
  },
  {
   "cell_type": "code",
   "execution_count": null,
   "metadata": {},
   "outputs": [],
   "source": [
    "dfp"
   ]
  },
  {
   "cell_type": "code",
   "execution_count": null,
   "metadata": {},
   "outputs": [],
   "source": []
  },
  {
   "cell_type": "code",
   "execution_count": null,
   "metadata": {},
   "outputs": [],
   "source": []
  },
  {
   "cell_type": "code",
   "execution_count": null,
   "metadata": {},
   "outputs": [],
   "source": []
  },
  {
   "cell_type": "code",
   "execution_count": null,
   "metadata": {},
   "outputs": [],
   "source": []
  }
 ],
 "metadata": {
  "kernelspec": {
   "display_name": "Python 3",
   "language": "python",
   "name": "python3"
  },
  "language_info": {
   "codemirror_mode": {
    "name": "ipython",
    "version": 3
   },
   "file_extension": ".py",
   "mimetype": "text/x-python",
   "name": "python",
   "nbconvert_exporter": "python",
   "pygments_lexer": "ipython3",
   "version": "3.5.4"
  }
 },
 "nbformat": 4,
 "nbformat_minor": 2
}
